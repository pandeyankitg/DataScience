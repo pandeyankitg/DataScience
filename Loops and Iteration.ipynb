{
  "nbformat": 4,
  "nbformat_minor": 0,
  "metadata": {
    "colab": {
      "provenance": [],
      "authorship_tag": "ABX9TyM23B1UHUJHZU1EUJJcq1Qu",
      "include_colab_link": true
    },
    "kernelspec": {
      "name": "python3",
      "display_name": "Python 3"
    },
    "language_info": {
      "name": "python"
    }
  },
  "cells": [
    {
      "cell_type": "markdown",
      "metadata": {
        "id": "view-in-github",
        "colab_type": "text"
      },
      "source": [
        "<a href=\"https://colab.research.google.com/github/pandeyankitg/DataScience/blob/main/Loops%20and%20Iteration.ipynb\" target=\"_parent\"><img src=\"https://colab.research.google.com/assets/colab-badge.svg\" alt=\"Open In Colab\"/></a>"
      ]
    },
    {
      "cell_type": "markdown",
      "source": [
        "**Loops and Iteration Practise Colab**"
      ],
      "metadata": {
        "id": "GmIl6Z9H-8h2"
      }
    },
    {
      "cell_type": "code",
      "execution_count": null,
      "metadata": {
        "colab": {
          "base_uri": "https://localhost:8080/"
        },
        "id": "0cDMrDkq-7ZQ",
        "outputId": "e2bc3326-5bdd-4c8a-d1f2-54effa1e4553"
      },
      "outputs": [
        {
          "output_type": "stream",
          "name": "stdout",
          "text": [
            "1\n",
            "4\n",
            "9\n",
            "16\n",
            "25\n"
          ]
        }
      ],
      "source": [
        "x= [1,2,3,4,5]\n",
        "for y in x:\n",
        "  z= y**2\n",
        "  print(z)"
      ]
    },
    {
      "cell_type": "code",
      "source": [
        "x=[1,2,3,4,5,6]\n",
        "for y in x:\n",
        "  z=y**3\n",
        "  print(z)"
      ],
      "metadata": {
        "colab": {
          "base_uri": "https://localhost:8080/"
        },
        "id": "HVuzxUo9BQ3R",
        "outputId": "905026cc-216b-42e5-82f1-029dc0427d84"
      },
      "execution_count": null,
      "outputs": [
        {
          "output_type": "stream",
          "name": "stdout",
          "text": [
            "1\n",
            "8\n",
            "27\n",
            "64\n",
            "125\n",
            "216\n"
          ]
        }
      ]
    },
    {
      "cell_type": "code",
      "source": [
        "a=[1,2,3,4,5]\n",
        "for b in a:\n",
        "   c= b**2\n",
        "   print(c)"
      ],
      "metadata": {
        "colab": {
          "base_uri": "https://localhost:8080/"
        },
        "id": "uVi0Z97EBd1H",
        "outputId": "7136f1be-a50f-48a6-aef8-21edde0ace7f"
      },
      "execution_count": null,
      "outputs": [
        {
          "output_type": "stream",
          "name": "stdout",
          "text": [
            "1\n",
            "4\n",
            "9\n",
            "16\n",
            "25\n"
          ]
        }
      ]
    },
    {
      "cell_type": "code",
      "source": [
        "b= [1,2,3,4,5]\n",
        "for c in b:\n",
        "  d=c**2\n",
        "  print(d)"
      ],
      "metadata": {
        "colab": {
          "base_uri": "https://localhost:8080/"
        },
        "id": "hnBwlSlrBuVj",
        "outputId": "f9cc50c6-fd86-4251-f04a-b5f6640da0e1"
      },
      "execution_count": null,
      "outputs": [
        {
          "output_type": "stream",
          "name": "stdout",
          "text": [
            "1\n",
            "4\n",
            "9\n",
            "16\n",
            "25\n"
          ]
        }
      ]
    },
    {
      "cell_type": "code",
      "source": [
        "c=[1,2,3,4,5]\n",
        "for d in c:\n",
        "  e= d**2\n",
        "  print(e)"
      ],
      "metadata": {
        "colab": {
          "base_uri": "https://localhost:8080/"
        },
        "id": "j9nBHChyBovi",
        "outputId": "b4dc24d4-8bc5-419e-c176-bd9ed43800ee"
      },
      "execution_count": null,
      "outputs": [
        {
          "output_type": "stream",
          "name": "stdout",
          "text": [
            "1\n",
            "4\n",
            "9\n",
            "16\n",
            "25\n"
          ]
        }
      ]
    },
    {
      "cell_type": "code",
      "source": [
        "d=[1,2,3,4,5]\n",
        "for e in d:\n",
        "  f=e**2\n",
        "  print(f)"
      ],
      "metadata": {
        "colab": {
          "base_uri": "https://localhost:8080/"
        },
        "id": "8tASaM27EZiZ",
        "outputId": "2adf1a8b-652a-4cba-df0d-2be9df5b74ab"
      },
      "execution_count": null,
      "outputs": [
        {
          "output_type": "stream",
          "name": "stdout",
          "text": [
            "1\n",
            "4\n",
            "9\n",
            "16\n",
            "25\n"
          ]
        }
      ]
    },
    {
      "cell_type": "code",
      "source": [
        "e=[1,2,3,4,5]\n",
        "for f in e:\n",
        "   g=f**2\n",
        "   print(g)"
      ],
      "metadata": {
        "colab": {
          "base_uri": "https://localhost:8080/"
        },
        "id": "u9hmoybrEk0O",
        "outputId": "a90291dc-91b4-4fe8-ccc6-71368d8be926"
      },
      "execution_count": null,
      "outputs": [
        {
          "output_type": "stream",
          "name": "stdout",
          "text": [
            "1\n",
            "4\n",
            "9\n",
            "16\n",
            "25\n"
          ]
        }
      ]
    },
    {
      "cell_type": "code",
      "source": [
        "f=[1,2,3,4,5]\n",
        "for g in f:\n",
        "  h= g**2\n",
        "  print(h)"
      ],
      "metadata": {
        "colab": {
          "base_uri": "https://localhost:8080/"
        },
        "id": "i4yQW2IGEzH_",
        "outputId": "68acb1d3-4363-4f26-9b0a-0905ab302ca1"
      },
      "execution_count": null,
      "outputs": [
        {
          "output_type": "stream",
          "name": "stdout",
          "text": [
            "1\n",
            "4\n",
            "9\n",
            "16\n",
            "25\n"
          ]
        }
      ]
    },
    {
      "cell_type": "code",
      "source": [
        "g= [1,2,3,4,5]\n",
        "for h in g:\n",
        "  i=h**2\n",
        "  print(i)"
      ],
      "metadata": {
        "colab": {
          "base_uri": "https://localhost:8080/"
        },
        "id": "O3q0QKuKFGND",
        "outputId": "d0035cc1-116a-4d4e-b809-6fe18c0d1a76"
      },
      "execution_count": null,
      "outputs": [
        {
          "output_type": "stream",
          "name": "stdout",
          "text": [
            "1\n",
            "4\n",
            "9\n",
            "16\n",
            "25\n"
          ]
        }
      ]
    },
    {
      "cell_type": "code",
      "source": [
        "h=[1,2,3,4,5]\n",
        "for i in h:\n",
        "  j= i**2\n",
        "  print(j)"
      ],
      "metadata": {
        "colab": {
          "base_uri": "https://localhost:8080/"
        },
        "id": "9tOnUbd7FSNZ",
        "outputId": "58a7a2b1-36bd-49cc-d5b1-48dfd46efed1"
      },
      "execution_count": null,
      "outputs": [
        {
          "output_type": "stream",
          "name": "stdout",
          "text": [
            "1\n",
            "4\n",
            "9\n",
            "16\n",
            "25\n"
          ]
        }
      ]
    },
    {
      "cell_type": "code",
      "source": [
        "i=[1,2,3,4,5]\n",
        "for j in i:\n",
        "  k=j**2\n",
        "  print(k)\n",
        "  "
      ],
      "metadata": {
        "colab": {
          "base_uri": "https://localhost:8080/"
        },
        "id": "PMRhmpOuFefG",
        "outputId": "319524eb-3bba-46f5-d608-9985e0642de7"
      },
      "execution_count": null,
      "outputs": [
        {
          "output_type": "stream",
          "name": "stdout",
          "text": [
            "1\n",
            "4\n",
            "9\n",
            "16\n",
            "25\n"
          ]
        }
      ]
    },
    {
      "cell_type": "code",
      "source": [
        "j=[1,2,3,4,5]\n",
        "for k in j:\n",
        "  l=k**2\n",
        "  print(l)"
      ],
      "metadata": {
        "colab": {
          "base_uri": "https://localhost:8080/"
        },
        "id": "UNQaDq_kKglJ",
        "outputId": "64f89b48-351c-43c8-ec35-391f9be55b83"
      },
      "execution_count": null,
      "outputs": [
        {
          "output_type": "stream",
          "name": "stdout",
          "text": [
            "1\n",
            "4\n",
            "9\n",
            "16\n",
            "25\n"
          ]
        }
      ]
    },
    {
      "cell_type": "code",
      "source": [
        "k=[1,2,3,4,5]\n",
        "for l in k:\n",
        "  m=l**2\n",
        "  print(m)"
      ],
      "metadata": {
        "colab": {
          "base_uri": "https://localhost:8080/"
        },
        "id": "LJ5EB6gIKuJO",
        "outputId": "c74a94bf-70aa-43a9-f771-dbcda9758deb"
      },
      "execution_count": null,
      "outputs": [
        {
          "output_type": "stream",
          "name": "stdout",
          "text": [
            "1\n",
            "4\n",
            "9\n",
            "16\n",
            "25\n"
          ]
        }
      ]
    },
    {
      "cell_type": "code",
      "source": [
        "l= [1,2,3,4,5]\n",
        "for m in l:\n",
        "  n=m**2\n",
        "  print(n)"
      ],
      "metadata": {
        "colab": {
          "base_uri": "https://localhost:8080/"
        },
        "id": "hXWyvEeeLGAd",
        "outputId": "2bb09851-2455-49ea-d9cc-7da0dd50be92"
      },
      "execution_count": null,
      "outputs": [
        {
          "output_type": "stream",
          "name": "stdout",
          "text": [
            "1\n",
            "4\n",
            "9\n",
            "16\n",
            "25\n"
          ]
        }
      ]
    },
    {
      "cell_type": "code",
      "source": [
        "m=[1,2,3,4,5]\n",
        "for n in m:\n",
        "  o=n**2\n",
        "  print(o)"
      ],
      "metadata": {
        "colab": {
          "base_uri": "https://localhost:8080/"
        },
        "id": "q2onBF2iLt0S",
        "outputId": "37f600dd-3277-41ee-db20-271d737f3411"
      },
      "execution_count": null,
      "outputs": [
        {
          "output_type": "stream",
          "name": "stdout",
          "text": [
            "1\n",
            "4\n",
            "9\n",
            "16\n",
            "25\n"
          ]
        }
      ]
    },
    {
      "cell_type": "code",
      "source": [
        "n=[1,2,3,4,5]\n",
        "for o in n:\n",
        "  p=o**2\n",
        "  print(p)"
      ],
      "metadata": {
        "colab": {
          "base_uri": "https://localhost:8080/"
        },
        "id": "-5dU6U5SMELz",
        "outputId": "f47783ea-f21a-4b05-f4d5-0fec5dc6eacc"
      },
      "execution_count": null,
      "outputs": [
        {
          "output_type": "stream",
          "name": "stdout",
          "text": [
            "1\n",
            "4\n",
            "9\n",
            "16\n",
            "25\n"
          ]
        }
      ]
    },
    {
      "cell_type": "code",
      "source": [
        "o=[1,2,3,4,5]\n",
        "for p in o:\n",
        "  q= p**2\n",
        "  print(q)"
      ],
      "metadata": {
        "colab": {
          "base_uri": "https://localhost:8080/"
        },
        "id": "wQbP9bqMMdNz",
        "outputId": "95c1578e-2c9f-4027-db38-00b8e3c9ff67"
      },
      "execution_count": null,
      "outputs": [
        {
          "output_type": "stream",
          "name": "stdout",
          "text": [
            "1\n",
            "4\n",
            "9\n",
            "16\n",
            "25\n"
          ]
        }
      ]
    },
    {
      "cell_type": "code",
      "source": [
        "p=[1,2,3,4,5]\n",
        "for q in p:\n",
        "  r= q**2\n",
        "  print(r)"
      ],
      "metadata": {
        "colab": {
          "base_uri": "https://localhost:8080/"
        },
        "id": "QvGqFWyRMry_",
        "outputId": "95bd945d-97cb-44bd-8a19-c0d54757ad6c"
      },
      "execution_count": null,
      "outputs": [
        {
          "output_type": "stream",
          "name": "stdout",
          "text": [
            "1\n",
            "4\n",
            "9\n",
            "16\n",
            "25\n"
          ]
        }
      ]
    },
    {
      "cell_type": "code",
      "source": [
        "q=[1,2,3,4,5]\n",
        "for r in q:\n",
        "  s=r**2\n",
        "  print(s)"
      ],
      "metadata": {
        "colab": {
          "base_uri": "https://localhost:8080/"
        },
        "id": "tEqamTgTM7qE",
        "outputId": "b9f2ce93-8dea-4a12-ad65-14053d4e1480"
      },
      "execution_count": null,
      "outputs": [
        {
          "output_type": "stream",
          "name": "stdout",
          "text": [
            "1\n",
            "4\n",
            "9\n",
            "16\n",
            "25\n"
          ]
        }
      ]
    },
    {
      "cell_type": "code",
      "source": [
        "r=[1,2,3,4,5]\n",
        "for s in r:\n",
        "  t= s**2\n",
        "  print(t)"
      ],
      "metadata": {
        "colab": {
          "base_uri": "https://localhost:8080/"
        },
        "id": "aIX40UH8NII1",
        "outputId": "ef45a8dc-0509-44bc-dbf3-355ba8721a6a"
      },
      "execution_count": null,
      "outputs": [
        {
          "output_type": "stream",
          "name": "stdout",
          "text": [
            "1\n",
            "4\n",
            "9\n",
            "16\n",
            "25\n"
          ]
        }
      ]
    },
    {
      "cell_type": "code",
      "source": [
        "s=[1,2,3,4,5]\n",
        "for t in s:\n",
        "  u=t**2\n",
        "  print(u)"
      ],
      "metadata": {
        "colab": {
          "base_uri": "https://localhost:8080/"
        },
        "id": "lNglCeAgNYJq",
        "outputId": "90c97a24-acb7-48d2-8e5a-d61dda546bf7"
      },
      "execution_count": null,
      "outputs": [
        {
          "output_type": "stream",
          "name": "stdout",
          "text": [
            "1\n",
            "4\n",
            "9\n",
            "16\n",
            "25\n"
          ]
        }
      ]
    },
    {
      "cell_type": "code",
      "source": [],
      "metadata": {
        "id": "2z3AuYsKNzsl"
      },
      "execution_count": null,
      "outputs": []
    },
    {
      "cell_type": "code",
      "source": [
        "t=[1,2,3,4,5]\n",
        "for u in t:\n",
        "  v= u**2\n",
        "  print(v)"
      ],
      "metadata": {
        "colab": {
          "base_uri": "https://localhost:8080/"
        },
        "id": "zWt5LVBKNq7g",
        "outputId": "81fb5522-b32d-4c16-cb8a-91e5e0d51d39"
      },
      "execution_count": null,
      "outputs": [
        {
          "output_type": "stream",
          "name": "stdout",
          "text": [
            "1\n",
            "4\n",
            "9\n",
            "16\n",
            "25\n"
          ]
        }
      ]
    },
    {
      "cell_type": "code",
      "source": [
        "u=[1,2,3,4,5]\n",
        "for v in u:\n",
        "  w= v**2\n",
        "  print(w)"
      ],
      "metadata": {
        "colab": {
          "base_uri": "https://localhost:8080/"
        },
        "id": "sXa0xfmvN0TQ",
        "outputId": "594ad22e-e1d0-40af-88e7-5c548ddcf02f"
      },
      "execution_count": null,
      "outputs": [
        {
          "output_type": "stream",
          "name": "stdout",
          "text": [
            "1\n",
            "4\n",
            "9\n",
            "16\n",
            "25\n"
          ]
        }
      ]
    },
    {
      "cell_type": "code",
      "source": [
        "v=[1,2,3,4,5]\n",
        "for w in v:\n",
        "  x= w**2\n",
        "  print(x)"
      ],
      "metadata": {
        "colab": {
          "base_uri": "https://localhost:8080/"
        },
        "id": "56hEjwiROOu1",
        "outputId": "48037333-df7a-41fc-ed21-7e057c5a1c7e"
      },
      "execution_count": null,
      "outputs": [
        {
          "output_type": "stream",
          "name": "stdout",
          "text": [
            "1\n",
            "4\n",
            "9\n",
            "16\n",
            "25\n"
          ]
        }
      ]
    },
    {
      "cell_type": "code",
      "source": [
        "w=[1,2,3,4,5]\n",
        "for x in w:\n",
        "  y=x**2\n",
        "  print(y)"
      ],
      "metadata": {
        "colab": {
          "base_uri": "https://localhost:8080/"
        },
        "id": "dTfNZUZ9OaR9",
        "outputId": "8cab8492-5440-453b-8057-ce9c21adbe26"
      },
      "execution_count": null,
      "outputs": [
        {
          "output_type": "stream",
          "name": "stdout",
          "text": [
            "1\n",
            "4\n",
            "9\n",
            "16\n",
            "25\n"
          ]
        }
      ]
    },
    {
      "cell_type": "code",
      "source": [
        "x=[1,2,3,4,5]\n",
        "for y in x:\n",
        "  z=y**2\n",
        "  print(z)"
      ],
      "metadata": {
        "colab": {
          "base_uri": "https://localhost:8080/"
        },
        "id": "Rc_jU-A6On2u",
        "outputId": "f3f88eb1-77a1-4764-e3f4-4fb251087696"
      },
      "execution_count": null,
      "outputs": [
        {
          "output_type": "stream",
          "name": "stdout",
          "text": [
            "1\n",
            "4\n",
            "9\n",
            "16\n",
            "25\n"
          ]
        }
      ]
    },
    {
      "cell_type": "code",
      "source": [
        "y=[1,2,3,4,5]\n",
        "for z in y:\n",
        "  a= z**2\n",
        "  print(a)"
      ],
      "metadata": {
        "colab": {
          "base_uri": "https://localhost:8080/"
        },
        "id": "-cBdaHu4O0fg",
        "outputId": "eaf6b2b8-a04d-4347-cafc-019f5db84e07"
      },
      "execution_count": null,
      "outputs": [
        {
          "output_type": "stream",
          "name": "stdout",
          "text": [
            "1\n",
            "4\n",
            "9\n",
            "16\n",
            "25\n"
          ]
        }
      ]
    },
    {
      "cell_type": "code",
      "source": [
        "z=[1,2,3,4,5]\n",
        "for a in z:\n",
        "  b=a**2\n",
        "  print(b)"
      ],
      "metadata": {
        "colab": {
          "base_uri": "https://localhost:8080/"
        },
        "id": "Pse6qiy-PBaT",
        "outputId": "dd369556-3998-485c-aead-7cf1041600f2"
      },
      "execution_count": null,
      "outputs": [
        {
          "output_type": "stream",
          "name": "stdout",
          "text": [
            "1\n",
            "4\n",
            "9\n",
            "16\n",
            "25\n"
          ]
        }
      ]
    },
    {
      "cell_type": "code",
      "source": [
        "Pandey_house= ['Rachna', 'Rohit','Neha', 'Ankit', 'Atul']\n",
        "for first in Pandey_house:\n",
        " print(f\"{first} Pandey\")"
      ],
      "metadata": {
        "colab": {
          "base_uri": "https://localhost:8080/"
        },
        "id": "5j_K5fpTgRLM",
        "outputId": "4f05e47d-0962-497d-e783-00358563176b"
      },
      "execution_count": null,
      "outputs": [
        {
          "output_type": "stream",
          "name": "stdout",
          "text": [
            "Rachna Pandey\n",
            "Rohit Pandey\n",
            "Neha Pandey\n",
            "Ankit Pandey\n",
            "Atul Pandey\n"
          ]
        }
      ]
    },
    {
      "cell_type": "code",
      "source": [
        "Friends_List= ['Shivam','Yash','Prashant','Chirag']\n",
        "for full_name in Friends_List:\n",
        "  print(f\"Engineer {full_name}\")"
      ],
      "metadata": {
        "colab": {
          "base_uri": "https://localhost:8080/"
        },
        "id": "X0tN0k0yiA0t",
        "outputId": "ce98e066-773e-4000-9cb5-a3eed8f390ff"
      },
      "execution_count": null,
      "outputs": [
        {
          "output_type": "stream",
          "name": "stdout",
          "text": [
            "Engineer Shivam\n",
            "Engineer Yash\n",
            "Engineer Prashant\n",
            "Engineer Chirag\n"
          ]
        }
      ]
    },
    {
      "cell_type": "code",
      "source": [
        "Model_name= ['Dzire', 'Baleno', 'Ertiga', 'SX4', 'Breeza']\n",
        "for full_name in Model_name:\n",
        "  print(f\"Maruti Suzuki {full_name}\")"
      ],
      "metadata": {
        "colab": {
          "base_uri": "https://localhost:8080/"
        },
        "id": "PXu0h7Uvj_vf",
        "outputId": "87854236-38ed-475e-c38e-f8bf40440e52"
      },
      "execution_count": null,
      "outputs": [
        {
          "output_type": "stream",
          "name": "stdout",
          "text": [
            "Maruti Suzuki Dzire\n",
            "Maruti Suzuki Baleno\n",
            "Maruti Suzuki Ertiga\n",
            "Maruti Suzuki SX4\n",
            "Maruti Suzuki Breeza\n"
          ]
        }
      ]
    },
    {
      "cell_type": "code",
      "source": [
        "first_name= ['Parwati', 'Neeta','Kalpana', 'Akanksha', 'Neha']\n",
        "for full_name in first_name:\n",
        "  print(f\"{full_name} Pandey\")"
      ],
      "metadata": {
        "colab": {
          "base_uri": "https://localhost:8080/"
        },
        "id": "D4V51Igrkn8L",
        "outputId": "96143573-fc53-445f-c862-b0b992ee7efe"
      },
      "execution_count": null,
      "outputs": [
        {
          "output_type": "stream",
          "name": "stdout",
          "text": [
            "Parwati Pandey\n",
            "Neeta Pandey\n",
            "Kalpana Pandey\n",
            "Akanksha Pandey\n",
            "Neha Pandey\n"
          ]
        }
      ]
    },
    {
      "cell_type": "code",
      "source": [
        "got_houses = ['Stark', 'Arryn', 'Baratheon', 'Tully', 'Greyjoy', 'Lannister', 'Tyrell', 'Martell', 'Targaryen']\n",
        "for full_name in got_houses:\n",
        "  print(f\"House {full_name}\")"
      ],
      "metadata": {
        "colab": {
          "base_uri": "https://localhost:8080/"
        },
        "id": "c_dcp5GulTcQ",
        "outputId": "3ad707d4-b4bc-4686-85c5-bee350528ad9"
      },
      "execution_count": null,
      "outputs": [
        {
          "output_type": "stream",
          "name": "stdout",
          "text": [
            "House Stark\n",
            "House Arryn\n",
            "House Baratheon\n",
            "House Tully\n",
            "House Greyjoy\n",
            "House Lannister\n",
            "House Tyrell\n",
            "House Martell\n",
            "House Targaryen\n"
          ]
        }
      ]
    },
    {
      "cell_type": "code",
      "source": [
        "#Now we can right the house names in reverse order by:\n",
        "for full_name2 in got_houses[::-1]:\n",
        "  print(f\"House {full_name2}\")"
      ],
      "metadata": {
        "colab": {
          "base_uri": "https://localhost:8080/"
        },
        "id": "VMvFkWefmOCW",
        "outputId": "d6586188-83f8-401a-fda1-19aa5fa51fe0"
      },
      "execution_count": null,
      "outputs": [
        {
          "output_type": "stream",
          "name": "stdout",
          "text": [
            "House Targaryen\n",
            "House Martell\n",
            "House Tyrell\n",
            "House Lannister\n",
            "House Greyjoy\n",
            "House Tully\n",
            "House Baratheon\n",
            "House Arryn\n",
            "House Stark\n"
          ]
        }
      ]
    },
    {
      "cell_type": "code",
      "source": [
        "# Using enumerate function to loop through the elements of a list\n",
        "got_houses = ['Stark', 'Arryn', 'Baratheon', 'Tully', 'Greyjoy', 'Lannister', 'Tyrell', 'Martell', 'Targaryen']\n",
        "for number,house in enumerate(got_houses):\n",
        " print(f\"The house no of house {house} is {number+1}\")"
      ],
      "metadata": {
        "colab": {
          "base_uri": "https://localhost:8080/"
        },
        "id": "zPgw03FdnYIL",
        "outputId": "e9f524f7-6dbb-4080-95d6-f0cab9bb2617"
      },
      "execution_count": null,
      "outputs": [
        {
          "output_type": "stream",
          "name": "stdout",
          "text": [
            "The house no of house Stark is 1\n",
            "The house no of house Arryn is 2\n",
            "The house no of house Baratheon is 3\n",
            "The house no of house Tully is 4\n",
            "The house no of house Greyjoy is 5\n",
            "The house no of house Lannister is 6\n",
            "The house no of house Tyrell is 7\n",
            "The house no of house Martell is 8\n",
            "The house no of house Targaryen is 9\n"
          ]
        }
      ]
    },
    {
      "cell_type": "code",
      "source": [
        "Family_list= ['Dadi','Papa', 'Maa','Chacha', 'Chachi', 'Bhai','Bhabhi', 'bahan']\n",
        "for number,member in enumerate(Family_list):\n",
        "  print(f\"The member no of {member} is {number+1}\")"
      ],
      "metadata": {
        "colab": {
          "base_uri": "https://localhost:8080/"
        },
        "id": "FWzXyJ8bqBik",
        "outputId": "06ed81de-5d59-4351-d409-9183d11f8688"
      },
      "execution_count": null,
      "outputs": [
        {
          "output_type": "stream",
          "name": "stdout",
          "text": [
            "The member no of Dadi is 1\n",
            "The member no of Papa is 2\n",
            "The member no of Maa is 3\n",
            "The member no of Chacha is 4\n",
            "The member no of Chachi is 5\n",
            "The member no of Bhai is 6\n",
            "The member no of Bhabhi is 7\n",
            "The member no of bahan is 8\n"
          ]
        }
      ]
    },
    {
      "cell_type": "code",
      "source": [
        "State_list=['RJ','MP','MH', 'UP', 'GJ']\n",
        "for number,state in enumerate(State_list):\n",
        " print(f\"The Rank of {state}, area wise, is {number+1}\")"
      ],
      "metadata": {
        "colab": {
          "base_uri": "https://localhost:8080/"
        },
        "id": "wB3eZW2QoaqH",
        "outputId": "f767e9d4-895c-46f0-d52c-40b2f2316870"
      },
      "execution_count": null,
      "outputs": [
        {
          "output_type": "stream",
          "name": "stdout",
          "text": [
            "The Rank of RJ, area wise, is 1\n",
            "The Rank of MP, area wise, is 2\n",
            "The Rank of MH, area wise, is 3\n",
            "The Rank of UP, area wise, is 4\n",
            "The Rank of GJ, area wise, is 5\n"
          ]
        }
      ]
    },
    {
      "cell_type": "code",
      "source": [],
      "metadata": {
        "id": "PbiUXUxc7IDc"
      },
      "execution_count": null,
      "outputs": []
    },
    {
      "cell_type": "code",
      "source": [
        "Country_list=['Russis','China', 'USA', 'Canada', 'Brazil']\n",
        "for number,country in enumerate(Country_list):\n",
        " print(f\"The rank of {country}, area wise, is {number+1}\")"
      ],
      "metadata": {
        "id": "gJZRgfwU7M6L",
        "colab": {
          "base_uri": "https://localhost:8080/"
        },
        "outputId": "21135007-b026-4bf3-b0b5-ea59cb06715f"
      },
      "execution_count": 3,
      "outputs": [
        {
          "output_type": "stream",
          "name": "stdout",
          "text": [
            "The rank of Russis, area wise, is 1\n",
            "The rank of China, area wise, is 2\n",
            "The rank of USA, area wise, is 3\n",
            "The rank of Canada, area wise, is 4\n",
            "The rank of Brazil, area wise, is 5\n"
          ]
        }
      ]
    },
    {
      "cell_type": "code",
      "source": [],
      "metadata": {
        "id": "mYydC5dtiuAI"
      },
      "execution_count": null,
      "outputs": []
    },
    {
      "cell_type": "code",
      "source": [
        "Country_list_pop= ['India', 'China', 'US','Indonesia','Pakistan','Brazil']\n",
        "for number,country in enumerate(Country_list_pop):\n",
        "   print(f\"The rank of {country}, population wise, is {number+1}\")"
      ],
      "metadata": {
        "colab": {
          "base_uri": "https://localhost:8080/"
        },
        "id": "fAGL702wiz9v",
        "outputId": "1c39288c-4536-474a-bc34-0d2bdca7cd41"
      },
      "execution_count": 5,
      "outputs": [
        {
          "output_type": "stream",
          "name": "stdout",
          "text": [
            "The rank of India, population wise, is 1\n",
            "The rank of China, population wise, is 2\n",
            "The rank of US, population wise, is 3\n",
            "The rank of Indonesia, population wise, is 4\n",
            "The rank of Pakistan, population wise, is 5\n",
            "The rank of Brazil, population wise, is 6\n"
          ]
        }
      ]
    },
    {
      "cell_type": "code",
      "source": [],
      "metadata": {
        "id": "oz8tQjwrjhmJ"
      },
      "execution_count": null,
      "outputs": []
    }
  ]
}